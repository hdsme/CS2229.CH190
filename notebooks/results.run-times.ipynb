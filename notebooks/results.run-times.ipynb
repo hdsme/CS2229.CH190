{
 "cells": [
  {
   "cell_type": "code",
   "execution_count": 1,
   "id": "2e975ea6",
   "metadata": {},
   "outputs": [],
   "source": [
    "import sys\n",
    "import json\n",
    "from pathlib import Path\n",
    "\n",
    "import numpy as np\n",
    "import pandas as pd"
   ]
  },
  {
   "cell_type": "code",
   "execution_count": 2,
   "id": "bf2b615a",
   "metadata": {},
   "outputs": [],
   "source": [
    "ROOT_DIR = Path(\"../runtimes/\")"
   ]
  },
  {
   "cell_type": "code",
   "execution_count": 3,
   "id": "ddfe15e3",
   "metadata": {},
   "outputs": [],
   "source": [
    "def parse_runtimes(filepath):\n",
    "    if filepath.suffix == \".csv\":\n",
    "        return parse_runtimes_csv(filepath)\n",
    "    elif filepath.suffix == \".json\":\n",
    "        return parse_runtimes_json(filepath)\n",
    "\n",
    "    raise ValueError(f\"Invalid filepath suffix for '{filepath}'\")\n",
    "        \n",
    "def parse_runtimes_csv(filepath):\n",
    "    data = pd.read_csv(filepath, header=None, index_col=0)\n",
    "    return data.to_numpy().flatten()\n",
    "\n",
    "def parse_runtimes_json(filepath):\n",
    "    with open(filepath, \"r\") as file_in:\n",
    "        data = json.load(file_in)\n",
    "    \n",
    "    (_algo_name, data), *_ = data.items()\n",
    "    return np.array([el[\"time-taken\"] for el in data])"
   ]
  },
  {
   "cell_type": "code",
   "execution_count": 4,
   "id": "2d9cf04d",
   "metadata": {},
   "outputs": [],
   "source": [
    "runtimes = {}\n",
    "\n",
    "for subdir in ROOT_DIR.iterdir():\n",
    "    if not subdir.is_dir():\n",
    "        print(f\"Skipping {filepath}, expted a directory.\", file=sys.stderr)\n",
    "        continue\n",
    "\n",
    "    dataset_name = subdir.name\n",
    "    runtimes[dataset_name] = {}\n",
    "\n",
    "    for filepath in subdir.iterdir():\n",
    "        if not filepath.is_file():\n",
    "            print(f\"Skipping {filepath}, expted a regular file.\", file=sys.stderr)\n",
    "            continue\n",
    "        algo_name = filepath.name\n",
    "        algo_name = algo_name[: algo_name.find(\".\")]\n",
    "\n",
    "        runtimes[dataset_name][algo_name] = parse_runtimes(filepath)"
   ]
  },
  {
   "cell_type": "code",
   "execution_count": 5,
   "id": "ddcc0184",
   "metadata": {},
   "outputs": [],
   "source": [
    "def agg(lst):\n",
    "    if isinstance(lst, (np.ndarray, list)):\n",
    "        #return np.sum(lst) / len(lst)\n",
    "        return np.sum(lst)  # NOTE: sum instead of average because EG only uses 10 trials but each trains 10 models (so using sum is fairer)\n",
    "    else:\n",
    "        return float('nan')"
   ]
  },
  {
   "cell_type": "code",
   "execution_count": 15,
   "id": "9633d464",
   "metadata": {},
   "outputs": [
    {
     "data": {
      "text/html": [
       "<div>\n",
       "<style scoped>\n",
       "    .dataframe tbody tr th:only-of-type {\n",
       "        vertical-align: middle;\n",
       "    }\n",
       "\n",
       "    .dataframe tbody tr th {\n",
       "        vertical-align: top;\n",
       "    }\n",
       "\n",
       "    .dataframe thead th {\n",
       "        text-align: right;\n",
       "    }\n",
       "</style>\n",
       "<table border=\"1\" class=\"dataframe\">\n",
       "  <thead>\n",
       "    <tr style=\"text-align: right;\">\n",
       "      <th></th>\n",
       "      <th>AOF</th>\n",
       "      <th>ACSIncome-Adult</th>\n",
       "    </tr>\n",
       "  </thead>\n",
       "  <tbody>\n",
       "    <tr>\n",
       "      <th>LightGBM-cluster</th>\n",
       "      <td>1.7</td>\n",
       "      <td>11.0</td>\n",
       "    </tr>\n",
       "    <tr>\n",
       "      <th>Fairlearn-GS-10x10</th>\n",
       "      <td>21.4</td>\n",
       "      <td>43.8</td>\n",
       "    </tr>\n",
       "    <tr>\n",
       "      <th>FairGBM</th>\n",
       "      <td>3.5</td>\n",
       "      <td>9.9</td>\n",
       "    </tr>\n",
       "    <tr>\n",
       "      <th>FairGBM-cluster</th>\n",
       "      <td>5.7</td>\n",
       "      <td>18.2</td>\n",
       "    </tr>\n",
       "    <tr>\n",
       "      <th>Fairlearn-GS</th>\n",
       "      <td>10.3</td>\n",
       "      <td>37.1</td>\n",
       "    </tr>\n",
       "    <tr>\n",
       "      <th>LightGBM</th>\n",
       "      <td>1.4</td>\n",
       "      <td>4.6</td>\n",
       "    </tr>\n",
       "    <tr>\n",
       "      <th>Fairlearn-EG</th>\n",
       "      <td>NaN</td>\n",
       "      <td>99.4</td>\n",
       "    </tr>\n",
       "  </tbody>\n",
       "</table>\n",
       "</div>"
      ],
      "text/plain": [
       "                    AOF  ACSIncome-Adult\n",
       "LightGBM-cluster    1.7             11.0\n",
       "Fairlearn-GS-10x10 21.4             43.8\n",
       "FairGBM             3.5              9.9\n",
       "FairGBM-cluster     5.7             18.2\n",
       "Fairlearn-GS       10.3             37.1\n",
       "LightGBM            1.4              4.6\n",
       "Fairlearn-EG        NaN             99.4"
      ]
     },
     "execution_count": 15,
     "metadata": {},
     "output_type": "execute_result"
    }
   ],
   "source": [
    "pd.options.display.float_format = \"{:.1f}\".format\n",
    "summed_runtimes = pd.DataFrame(runtimes).applymap(agg)\n",
    "summed_runtimes / 3600 # Show in hours"
   ]
  },
  {
   "cell_type": "code",
   "execution_count": 16,
   "id": "6bf9331c",
   "metadata": {},
   "outputs": [
    {
     "data": {
      "text/html": [
       "<div>\n",
       "<style scoped>\n",
       "    .dataframe tbody tr th:only-of-type {\n",
       "        vertical-align: middle;\n",
       "    }\n",
       "\n",
       "    .dataframe tbody tr th {\n",
       "        vertical-align: top;\n",
       "    }\n",
       "\n",
       "    .dataframe thead th {\n",
       "        text-align: right;\n",
       "    }\n",
       "</style>\n",
       "<table border=\"1\" class=\"dataframe\">\n",
       "  <thead>\n",
       "    <tr style=\"text-align: right;\">\n",
       "      <th></th>\n",
       "      <th>AOF</th>\n",
       "      <th>ACSIncome-Adult</th>\n",
       "    </tr>\n",
       "  </thead>\n",
       "  <tbody>\n",
       "    <tr>\n",
       "      <th>LightGBM-cluster</th>\n",
       "      <td>1.2</td>\n",
       "      <td>2.4</td>\n",
       "    </tr>\n",
       "    <tr>\n",
       "      <th>Fairlearn-GS-10x10</th>\n",
       "      <td>14.7</td>\n",
       "      <td>9.6</td>\n",
       "    </tr>\n",
       "    <tr>\n",
       "      <th>FairGBM</th>\n",
       "      <td>2.4</td>\n",
       "      <td>2.1</td>\n",
       "    </tr>\n",
       "    <tr>\n",
       "      <th>FairGBM-cluster</th>\n",
       "      <td>4.0</td>\n",
       "      <td>4.0</td>\n",
       "    </tr>\n",
       "    <tr>\n",
       "      <th>Fairlearn-GS</th>\n",
       "      <td>7.1</td>\n",
       "      <td>8.1</td>\n",
       "    </tr>\n",
       "    <tr>\n",
       "      <th>LightGBM</th>\n",
       "      <td>1.0</td>\n",
       "      <td>1.0</td>\n",
       "    </tr>\n",
       "    <tr>\n",
       "      <th>Fairlearn-EG</th>\n",
       "      <td>NaN</td>\n",
       "      <td>21.7</td>\n",
       "    </tr>\n",
       "  </tbody>\n",
       "</table>\n",
       "</div>"
      ],
      "text/plain": [
       "                    AOF  ACSIncome-Adult\n",
       "LightGBM-cluster    1.2              2.4\n",
       "Fairlearn-GS-10x10 14.7              9.6\n",
       "FairGBM             2.4              2.1\n",
       "FairGBM-cluster     4.0              4.0\n",
       "Fairlearn-GS        7.1              8.1\n",
       "LightGBM            1.0              1.0\n",
       "Fairlearn-EG        NaN             21.7"
      ]
     },
     "execution_count": 16,
     "metadata": {},
     "output_type": "execute_result"
    }
   ],
   "source": [
    "# Run-times relative to vanilla LightGBM\n",
    "#pd.options.display.float_format = \"{:.2f}\".format\n",
    "summed_runtimes / summed_runtimes.loc[\"LightGBM\"]"
   ]
  },
  {
   "cell_type": "code",
   "execution_count": null,
   "id": "c23a4a93",
   "metadata": {},
   "outputs": [],
   "source": []
  }
 ],
 "metadata": {
  "kernelspec": {
   "display_name": "Python 3 (ipykernel)",
   "language": "python",
   "name": "python3"
  },
  "language_info": {
   "codemirror_mode": {
    "name": "ipython",
    "version": 3
   },
   "file_extension": ".py",
   "mimetype": "text/x-python",
   "name": "python",
   "nbconvert_exporter": "python",
   "pygments_lexer": "ipython3",
   "version": "3.7.13"
  }
 },
 "nbformat": 4,
 "nbformat_minor": 5
}
