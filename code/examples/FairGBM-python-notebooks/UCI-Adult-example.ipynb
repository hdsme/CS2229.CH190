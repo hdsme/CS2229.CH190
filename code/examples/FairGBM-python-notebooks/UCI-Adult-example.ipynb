{
 "cells": [
  {
   "cell_type": "markdown",
   "id": "cff42768",
   "metadata": {},
   "source": [
    "# Simple FairGBM example on the UCI Adult dataset"
   ]
  },
  {
   "cell_type": "code",
   "execution_count": 1,
   "id": "4bdcc068",
   "metadata": {},
   "outputs": [],
   "source": [
    "from pathlib import Path\n",
    "import pandas as pd\n",
    "import numpy as np"
   ]
  },
  {
   "cell_type": "code",
   "execution_count": 2,
   "id": "cbe2ed76",
   "metadata": {},
   "outputs": [],
   "source": [
    "SEED = 42"
   ]
  },
  {
   "cell_type": "markdown",
   "id": "10ff123f",
   "metadata": {},
   "source": [
    "### Load data"
   ]
  },
  {
   "cell_type": "code",
   "execution_count": 3,
   "id": "27034067",
   "metadata": {},
   "outputs": [
    {
     "name": "stdout",
     "output_type": "stream",
     "text": [
      "100% [................................................................................] 5229 / 5229"
     ]
    },
    {
     "data": {
      "text/html": [
       "<div>\n",
       "<style scoped>\n",
       "    .dataframe tbody tr th:only-of-type {\n",
       "        vertical-align: middle;\n",
       "    }\n",
       "\n",
       "    .dataframe tbody tr th {\n",
       "        vertical-align: top;\n",
       "    }\n",
       "\n",
       "    .dataframe thead th {\n",
       "        text-align: right;\n",
       "    }\n",
       "</style>\n",
       "<table border=\"1\" class=\"dataframe\">\n",
       "  <thead>\n",
       "    <tr style=\"text-align: right;\">\n",
       "      <th></th>\n",
       "      <th>age</th>\n",
       "      <th>workclass</th>\n",
       "      <th>fnlwgt</th>\n",
       "      <th>education</th>\n",
       "      <th>education-num</th>\n",
       "      <th>marital-status</th>\n",
       "      <th>occupation</th>\n",
       "      <th>relationship</th>\n",
       "      <th>race</th>\n",
       "      <th>sex</th>\n",
       "      <th>capital-gain</th>\n",
       "      <th>capital-loss</th>\n",
       "      <th>hours-per-week</th>\n",
       "      <th>native-country</th>\n",
       "      <th>target</th>\n",
       "    </tr>\n",
       "  </thead>\n",
       "  <tbody>\n",
       "    <tr>\n",
       "      <th>0</th>\n",
       "      <td>39.0</td>\n",
       "      <td>State-gov</td>\n",
       "      <td>77516.0</td>\n",
       "      <td>Bachelors</td>\n",
       "      <td>13.0</td>\n",
       "      <td>Never-married</td>\n",
       "      <td>Adm-clerical</td>\n",
       "      <td>Not-in-family</td>\n",
       "      <td>White</td>\n",
       "      <td>Male</td>\n",
       "      <td>2174.0</td>\n",
       "      <td>0.0</td>\n",
       "      <td>40.0</td>\n",
       "      <td>United-States</td>\n",
       "      <td>&lt;=50K</td>\n",
       "    </tr>\n",
       "    <tr>\n",
       "      <th>1</th>\n",
       "      <td>50.0</td>\n",
       "      <td>Self-emp-not-inc</td>\n",
       "      <td>83311.0</td>\n",
       "      <td>Bachelors</td>\n",
       "      <td>13.0</td>\n",
       "      <td>Married-civ-spouse</td>\n",
       "      <td>Exec-managerial</td>\n",
       "      <td>Husband</td>\n",
       "      <td>White</td>\n",
       "      <td>Male</td>\n",
       "      <td>0.0</td>\n",
       "      <td>0.0</td>\n",
       "      <td>13.0</td>\n",
       "      <td>United-States</td>\n",
       "      <td>&lt;=50K</td>\n",
       "    </tr>\n",
       "    <tr>\n",
       "      <th>2</th>\n",
       "      <td>38.0</td>\n",
       "      <td>Private</td>\n",
       "      <td>215646.0</td>\n",
       "      <td>HS-grad</td>\n",
       "      <td>9.0</td>\n",
       "      <td>Divorced</td>\n",
       "      <td>Handlers-cleaners</td>\n",
       "      <td>Not-in-family</td>\n",
       "      <td>White</td>\n",
       "      <td>Male</td>\n",
       "      <td>0.0</td>\n",
       "      <td>0.0</td>\n",
       "      <td>40.0</td>\n",
       "      <td>United-States</td>\n",
       "      <td>&lt;=50K</td>\n",
       "    </tr>\n",
       "    <tr>\n",
       "      <th>3</th>\n",
       "      <td>53.0</td>\n",
       "      <td>Private</td>\n",
       "      <td>234721.0</td>\n",
       "      <td>11th</td>\n",
       "      <td>7.0</td>\n",
       "      <td>Married-civ-spouse</td>\n",
       "      <td>Handlers-cleaners</td>\n",
       "      <td>Husband</td>\n",
       "      <td>Black</td>\n",
       "      <td>Male</td>\n",
       "      <td>0.0</td>\n",
       "      <td>0.0</td>\n",
       "      <td>40.0</td>\n",
       "      <td>United-States</td>\n",
       "      <td>&lt;=50K</td>\n",
       "    </tr>\n",
       "    <tr>\n",
       "      <th>4</th>\n",
       "      <td>28.0</td>\n",
       "      <td>Private</td>\n",
       "      <td>338409.0</td>\n",
       "      <td>Bachelors</td>\n",
       "      <td>13.0</td>\n",
       "      <td>Married-civ-spouse</td>\n",
       "      <td>Prof-specialty</td>\n",
       "      <td>Wife</td>\n",
       "      <td>Black</td>\n",
       "      <td>Female</td>\n",
       "      <td>0.0</td>\n",
       "      <td>0.0</td>\n",
       "      <td>40.0</td>\n",
       "      <td>Cuba</td>\n",
       "      <td>&lt;=50K</td>\n",
       "    </tr>\n",
       "  </tbody>\n",
       "</table>\n",
       "</div>"
      ],
      "text/plain": [
       "    age         workclass    fnlwgt  education  education-num  \\\n",
       "0  39.0         State-gov   77516.0  Bachelors           13.0   \n",
       "1  50.0  Self-emp-not-inc   83311.0  Bachelors           13.0   \n",
       "2  38.0           Private  215646.0    HS-grad            9.0   \n",
       "3  53.0           Private  234721.0       11th            7.0   \n",
       "4  28.0           Private  338409.0  Bachelors           13.0   \n",
       "\n",
       "       marital-status         occupation   relationship   race     sex  \\\n",
       "0       Never-married       Adm-clerical  Not-in-family  White    Male   \n",
       "1  Married-civ-spouse    Exec-managerial        Husband  White    Male   \n",
       "2            Divorced  Handlers-cleaners  Not-in-family  White    Male   \n",
       "3  Married-civ-spouse  Handlers-cleaners        Husband  Black    Male   \n",
       "4  Married-civ-spouse     Prof-specialty           Wife  Black  Female   \n",
       "\n",
       "   capital-gain  capital-loss  hours-per-week native-country target  \n",
       "0        2174.0           0.0            40.0  United-States  <=50K  \n",
       "1           0.0           0.0            13.0  United-States  <=50K  \n",
       "2           0.0           0.0            40.0  United-States  <=50K  \n",
       "3           0.0           0.0            40.0  United-States  <=50K  \n",
       "4           0.0           0.0            40.0           Cuba  <=50K  "
      ]
     },
     "execution_count": 3,
     "metadata": {},
     "output_type": "execute_result"
    }
   ],
   "source": [
    "from utils import load_uci_adult\n",
    "train_set, test_set = load_uci_adult()\n",
    "train_set.head()"
   ]
  },
  {
   "cell_type": "markdown",
   "id": "60ee6071",
   "metadata": {},
   "source": [
    "Split features (X), labels (Y), and sensitive attributes (S).\n",
    "\n",
    "**NOTE**: the labels (Y) and sensitive attributes (S) must be in numeric format!"
   ]
  },
  {
   "cell_type": "code",
   "execution_count": 4,
   "id": "03425560",
   "metadata": {},
   "outputs": [],
   "source": [
    "UCI_ADULT_TARGET_COL = \"target\"\n",
    "UCI_ADULT_SENSITIVE_COL = \"sex\"\n",
    "\n",
    "def split_X_Y_S_uci_adult(data) -> tuple:\n",
    "    \"\"\"Splits the given UCI Adult data into features, target, and sensitive attributes.\n",
    "    \n",
    "    Returns\n",
    "    -------\n",
    "    X, Y, S : tuple[pd.DataFrame, pd.Series, pd.Series]\n",
    "        A tuple conmtaining the dataset's features, labels, and sensitive attributes.\n",
    "    \"\"\"\n",
    "    ignored_cols = [UCI_ADULT_TARGET_COL, UCI_ADULT_SENSITIVE_COL, \"fnlwgt\"]\n",
    "    feature_cols = [col for col in data.columns if col not in ignored_cols]\n",
    "\n",
    "    X = data[feature_cols]\n",
    "    \n",
    "    \n",
    "    # Convert label to numeric\n",
    "    Y = pd.Series(\n",
    "        data=[\n",
    "            0. if \"<=50K\" in val.strip() else 1.\n",
    "            for val in data[UCI_ADULT_TARGET_COL]\n",
    "        ],\n",
    "        dtype=float)\n",
    "\n",
    "    # Convert sensitive attributes to numeric\n",
    "    # NOTE! There may be two or more sensitive groups\n",
    "    S = pd.Series(\n",
    "        data=[1. if val == \"Female\" else 0. for val in data[UCI_ADULT_SENSITIVE_COL]],\n",
    "        dtype=float)\n",
    "    \n",
    "    return X, Y, S"
   ]
  },
  {
   "cell_type": "markdown",
   "id": "9b99f0de",
   "metadata": {},
   "source": [
    "In this example we're using only two sensitive attributes (sex=\"Female\" or sex=\"Male\").\n",
    "\n",
    "However, _FairGBM is **not** restricted to binary sensitive attributes_: you can use two or more as long as they're encoded in a single numeric column."
   ]
  },
  {
   "cell_type": "code",
   "execution_count": 5,
   "id": "7db7d742",
   "metadata": {},
   "outputs": [],
   "source": [
    "X_train, Y_train, S_train = split_X_Y_S_uci_adult(train_set)\n",
    "X_test, Y_test, S_test = split_X_Y_S_uci_adult(test_set);"
   ]
  },
  {
   "cell_type": "markdown",
   "id": "0cad6eeb",
   "metadata": {},
   "source": [
    "###  Construct FairGBM model"
   ]
  },
  {
   "cell_type": "code",
   "execution_count": 6,
   "id": "37bd2985",
   "metadata": {},
   "outputs": [],
   "source": [
    "from fairgbm import FairGBMClassifier\n",
    "\n",
    "core_lgbm_params = {\n",
    "    \"n_estimators\": 200,\n",
    "    \"random_state\": SEED,\n",
    "    \"n_jobs\": -2,\n",
    "}\n",
    "\n",
    "# Instantiate\n",
    "fairgbm_clf = FairGBMClassifier(\n",
    "    constraint_type=\"FNR\",    # constraint on equal group-wise TPR (equal opportunity)\n",
    "    multiplier_learning_rate=0.2,\n",
    "    constraint_fnr_slack=0.05,\n",
    "    **core_lgbm_params,\n",
    ")"
   ]
  },
  {
   "cell_type": "markdown",
   "id": "4e40397f",
   "metadata": {},
   "source": [
    "### Train model"
   ]
  },
  {
   "cell_type": "code",
   "execution_count": 7,
   "id": "8d64666a",
   "metadata": {},
   "outputs": [
    {
     "name": "stdout",
     "output_type": "stream",
     "text": [
      "CPU times: user 35.3 s, sys: 159 ms, total: 35.4 s\n",
      "Wall time: 5.8 s\n"
     ]
    },
    {
     "data": {
      "text/html": [
       "<style>#sk-container-id-1 {color: black;background-color: white;}#sk-container-id-1 pre{padding: 0;}#sk-container-id-1 div.sk-toggleable {background-color: white;}#sk-container-id-1 label.sk-toggleable__label {cursor: pointer;display: block;width: 100%;margin-bottom: 0;padding: 0.3em;box-sizing: border-box;text-align: center;}#sk-container-id-1 label.sk-toggleable__label-arrow:before {content: \"▸\";float: left;margin-right: 0.25em;color: #696969;}#sk-container-id-1 label.sk-toggleable__label-arrow:hover:before {color: black;}#sk-container-id-1 div.sk-estimator:hover label.sk-toggleable__label-arrow:before {color: black;}#sk-container-id-1 div.sk-toggleable__content {max-height: 0;max-width: 0;overflow: hidden;text-align: left;background-color: #f0f8ff;}#sk-container-id-1 div.sk-toggleable__content pre {margin: 0.2em;color: black;border-radius: 0.25em;background-color: #f0f8ff;}#sk-container-id-1 input.sk-toggleable__control:checked~div.sk-toggleable__content {max-height: 200px;max-width: 100%;overflow: auto;}#sk-container-id-1 input.sk-toggleable__control:checked~label.sk-toggleable__label-arrow:before {content: \"▾\";}#sk-container-id-1 div.sk-estimator input.sk-toggleable__control:checked~label.sk-toggleable__label {background-color: #d4ebff;}#sk-container-id-1 div.sk-label input.sk-toggleable__control:checked~label.sk-toggleable__label {background-color: #d4ebff;}#sk-container-id-1 input.sk-hidden--visually {border: 0;clip: rect(1px 1px 1px 1px);clip: rect(1px, 1px, 1px, 1px);height: 1px;margin: -1px;overflow: hidden;padding: 0;position: absolute;width: 1px;}#sk-container-id-1 div.sk-estimator {font-family: monospace;background-color: #f0f8ff;border: 1px dotted black;border-radius: 0.25em;box-sizing: border-box;margin-bottom: 0.5em;}#sk-container-id-1 div.sk-estimator:hover {background-color: #d4ebff;}#sk-container-id-1 div.sk-parallel-item::after {content: \"\";width: 100%;border-bottom: 1px solid gray;flex-grow: 1;}#sk-container-id-1 div.sk-label:hover label.sk-toggleable__label {background-color: #d4ebff;}#sk-container-id-1 div.sk-serial::before {content: \"\";position: absolute;border-left: 1px solid gray;box-sizing: border-box;top: 0;bottom: 0;left: 50%;z-index: 0;}#sk-container-id-1 div.sk-serial {display: flex;flex-direction: column;align-items: center;background-color: white;padding-right: 0.2em;padding-left: 0.2em;position: relative;}#sk-container-id-1 div.sk-item {position: relative;z-index: 1;}#sk-container-id-1 div.sk-parallel {display: flex;align-items: stretch;justify-content: center;background-color: white;position: relative;}#sk-container-id-1 div.sk-item::before, #sk-container-id-1 div.sk-parallel-item::before {content: \"\";position: absolute;border-left: 1px solid gray;box-sizing: border-box;top: 0;bottom: 0;left: 50%;z-index: -1;}#sk-container-id-1 div.sk-parallel-item {display: flex;flex-direction: column;z-index: 1;position: relative;background-color: white;}#sk-container-id-1 div.sk-parallel-item:first-child::after {align-self: flex-end;width: 50%;}#sk-container-id-1 div.sk-parallel-item:last-child::after {align-self: flex-start;width: 50%;}#sk-container-id-1 div.sk-parallel-item:only-child::after {width: 0;}#sk-container-id-1 div.sk-dashed-wrapped {border: 1px dashed gray;margin: 0 0.4em 0.5em 0.4em;box-sizing: border-box;padding-bottom: 0.4em;background-color: white;}#sk-container-id-1 div.sk-label label {font-family: monospace;font-weight: bold;display: inline-block;line-height: 1.2em;}#sk-container-id-1 div.sk-label-container {text-align: center;}#sk-container-id-1 div.sk-container {/* jupyter's `normalize.less` sets `[hidden] { display: none; }` but bootstrap.min.css set `[hidden] { display: none !important; }` so we also need the `!important` here to be able to override the default hidden behavior on the sphinx rendered scikit-learn.org. See: https://github.com/scikit-learn/scikit-learn/issues/21755 */display: inline-block !important;position: relative;}#sk-container-id-1 div.sk-text-repr-fallback {display: none;}</style><div id=\"sk-container-id-1\" class=\"sk-top-container\"><div class=\"sk-text-repr-fallback\"><pre>FairGBMClassifier(constraint_fnr_slack=0.05, constraint_type=&#x27;FNR&#x27;,\n",
       "                  multiplier_learning_rate=0.2, n_estimators=200, n_jobs=-2,\n",
       "                  random_state=42)</pre><b>In a Jupyter environment, please rerun this cell to show the HTML representation or trust the notebook. <br />On GitHub, the HTML representation is unable to render, please try loading this page with nbviewer.org.</b></div><div class=\"sk-container\" hidden><div class=\"sk-item\"><div class=\"sk-estimator sk-toggleable\"><input class=\"sk-toggleable__control sk-hidden--visually\" id=\"sk-estimator-id-1\" type=\"checkbox\" checked><label for=\"sk-estimator-id-1\" class=\"sk-toggleable__label sk-toggleable__label-arrow\">FairGBMClassifier</label><div class=\"sk-toggleable__content\"><pre>FairGBMClassifier(constraint_fnr_slack=0.05, constraint_type=&#x27;FNR&#x27;,\n",
       "                  multiplier_learning_rate=0.2, n_estimators=200, n_jobs=-2,\n",
       "                  random_state=42)</pre></div></div></div></div></div>"
      ],
      "text/plain": [
       "FairGBMClassifier(constraint_fnr_slack=0.05, constraint_type='FNR',\n",
       "                  multiplier_learning_rate=0.2, n_estimators=200, n_jobs=-2,\n",
       "                  random_state=42)"
      ]
     },
     "execution_count": 7,
     "metadata": {},
     "output_type": "execute_result"
    }
   ],
   "source": [
    "%%time\n",
    "# Train using features (X), labels (Y), and sensitive attributes (S)\n",
    "fairgbm_clf.fit(X_train, Y_train, constraint_group=S_train)"
   ]
  },
  {
   "cell_type": "markdown",
   "id": "071ed3c6",
   "metadata": {},
   "source": [
    "### Compute binary predictions\n",
    "Note that the sensitive attributes are only used in training and not for predicting!"
   ]
  },
  {
   "cell_type": "code",
   "execution_count": 8,
   "id": "12559ea5",
   "metadata": {},
   "outputs": [],
   "source": [
    "Y_test_pred = fairgbm_clf.predict(X_test)"
   ]
  },
  {
   "cell_type": "markdown",
   "id": "351011ee",
   "metadata": {},
   "source": [
    "### Compute Performance and Fairness metrics"
   ]
  },
  {
   "cell_type": "code",
   "execution_count": 9,
   "id": "cd8fac9c",
   "metadata": {},
   "outputs": [],
   "source": [
    "from sklearn.metrics import accuracy_score\n",
    "from utils import compute_fairness_ratio\n",
    "\n",
    "acc_val = accuracy_score(Y_test, Y_test_pred)\n",
    "eq_op_val = compute_fairness_ratio(Y_test, Y_test_pred, S_test, \"TPR\")"
   ]
  },
  {
   "cell_type": "code",
   "execution_count": 10,
   "id": "1a0c5faa",
   "metadata": {},
   "outputs": [
    {
     "name": "stdout",
     "output_type": "stream",
     "text": [
      "FairGBM:\n",
      "\tAccuracy: 87.2%\n",
      "\tFairness: 96.1%\n"
     ]
    }
   ],
   "source": [
    "print(f\"FairGBM:\")\n",
    "print(f\"\\tAccuracy: {acc_val:.1%}\")\n",
    "print(f\"\\tFairness: {eq_op_val:.1%}\")"
   ]
  }
 ],
 "metadata": {
  "kernelspec": {
   "display_name": "Python 3 (ipykernel)",
   "language": "python",
   "name": "python3"
  },
  "language_info": {
   "codemirror_mode": {
    "name": "ipython",
    "version": 3
   },
   "file_extension": ".py",
   "mimetype": "text/x-python",
   "name": "python",
   "nbconvert_exporter": "python",
   "pygments_lexer": "ipython3",
   "version": "3.9.13"
  }
 },
 "nbformat": 4,
 "nbformat_minor": 5
}
